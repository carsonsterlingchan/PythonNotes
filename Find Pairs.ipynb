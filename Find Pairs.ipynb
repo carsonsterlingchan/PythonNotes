{
 "cells": [
  {
   "cell_type": "markdown",
   "metadata": {},
   "source": [
    "# Find Pairs\n",
    "\n",
    "This is a mock interview question presented in an Udemy course - Python For Algorithms, Data Structures and Interviews. Instructor is Jose Portilla.\n",
    "\n",
    "Original Problem:\n",
    "Given a list of integers and a target number, write a function that returns a boolean indicating\n",
    "if it's possible to sum two integers from the list to reach the target number.\n",
    "\n",
    "Original Requirement:\n",
    "You can not use an integer element twice. Optimize for time over space\n",
    "\n",
    "I changed his problem.  This function prints out pairs of integers that match the target number and they are in ascending order. \n",
    "\n",
    "input: [1,2,4,3,5,6] 6\n",
    "output:\n",
    "(1,5)\n",
    "(2,4)"
   ]
  },
  {
   "cell_type": "code",
   "execution_count": 1,
   "metadata": {
    "collapsed": true
   },
   "outputs": [],
   "source": [
    "def find_pairs(lst, the_sum):\n",
    "    \n",
    "    if len(lst) == 0:\n",
    "        raise Exception('List needs at least 2 integers')\n",
    "    \n",
    "    # Make sure the list is sorted.  This is important\n",
    "    # Otherwise, numbers will not printed in pairs.\n",
    "    \n",
    "    lst.sort()\n",
    "    \n",
    "    seen = set()\n",
    "    output = []\n",
    "    \n",
    "    for num in lst:\n",
    "        \n",
    "        diff = the_sum - num\n",
    "        \n",
    "        if diff not in seen:\n",
    "            seen.add(num)\n",
    "        else:\n",
    "            output.append((min(num,diff),max(num,diff)))\n",
    "    \n",
    "    if len(output) > 0:\n",
    "        output.sort(key = lambda x: x[0])\n",
    "        for pair in output:\n",
    "            print pair"
   ]
  },
  {
   "cell_type": "code",
   "execution_count": 2,
   "metadata": {
    "collapsed": false
   },
   "outputs": [
    {
     "name": "stdout",
     "output_type": "stream",
     "text": [
      "(1, 5)\n",
      "(2, 4)\n",
      "(3, 3)\n"
     ]
    }
   ],
   "source": [
    "find_pairs([1,2,3,3,4,5], 6)"
   ]
  },
  {
   "cell_type": "code",
   "execution_count": null,
   "metadata": {
    "collapsed": true
   },
   "outputs": [],
   "source": []
  }
 ],
 "metadata": {
  "kernelspec": {
   "display_name": "Python 2",
   "language": "python",
   "name": "python2"
  },
  "language_info": {
   "codemirror_mode": {
    "name": "ipython",
    "version": 2
   },
   "file_extension": ".py",
   "mimetype": "text/x-python",
   "name": "python",
   "nbconvert_exporter": "python",
   "pygments_lexer": "ipython2",
   "version": "2.7.11"
  }
 },
 "nbformat": 4,
 "nbformat_minor": 0
}
