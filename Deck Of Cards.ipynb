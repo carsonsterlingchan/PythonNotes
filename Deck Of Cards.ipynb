{
 "cells": [
  {
   "cell_type": "markdown",
   "metadata": {},
   "source": [
    "# Deck of Cards\n",
    "\n",
    "This demonstrates how to build a deck of cards using Python class.  We can shuffle and draw cards from the deck."
   ]
  },
  {
   "cell_type": "code",
   "execution_count": 1,
   "metadata": {
    "collapsed": false,
    "scrolled": true
   },
   "outputs": [],
   "source": [
    "from random import shuffle\n",
    "\n",
    "class Card(object):\n",
    "\n",
    "    def __init__(self, suit, value):\n",
    "        \n",
    "        self.suit = suit\n",
    "        self.value = value\n",
    "        \n",
    "    def __repr__(self):\n",
    "        \n",
    "        letters = {1: 'A', 11:'J', 12: 'Q', 13 : 'K'}\n",
    "        letter = letters.get(self.value, str(self.value))\n",
    "        return '{0},{1}'.format(letter, self.suit)\n",
    "    \n",
    "class DeckOfCards(object):\n",
    "    \n",
    "    def __init__(self):\n",
    "        \n",
    "        suits = ['Spade', 'Heart', 'Club', 'Diamond']\n",
    "        values = range(1,14)\n",
    "        self.cards = [Card(suit,value) for suit in suits for value in values]\n",
    "        self.index = 0\n",
    "        \n",
    "    def shuffleCards(self):\n",
    "        \n",
    "        shuffle(self.cards)\n",
    "        \n",
    "    def drawACard(self):\n",
    "        \n",
    "        return self.cards.pop(0)\n",
    "    \n",
    "    def printCards(self):\n",
    "        \n",
    "        print self.cards\n",
    "        \n",
    "    def __getitem__(self, k):\n",
    "        \n",
    "        return self.cards[k]\n",
    "    \n",
    "    def __iter__(self):\n",
    "        return self\n",
    "    \n",
    "    def next(self):\n",
    "        try:\n",
    "            result = self.cards[self.index]\n",
    "            self.index += 1\n",
    "        except IndexError:\n",
    "            raise StopIteration\n",
    "        return result\n",
    "    \n",
    "    def __len__(self):\n",
    "        return len(self.cards)"
   ]
  },
  {
   "cell_type": "code",
   "execution_count": 2,
   "metadata": {
    "collapsed": false
   },
   "outputs": [
    {
     "name": "stdout",
     "output_type": "stream",
     "text": [
      "There are 52 cards in the deck\n"
     ]
    }
   ],
   "source": [
    "oneDeck = DeckOfCards()\n",
    "print 'There are %d cards in the deck.' % len(oneDeck)"
   ]
  },
  {
   "cell_type": "code",
   "execution_count": 3,
   "metadata": {
    "collapsed": false
   },
   "outputs": [
    {
     "name": "stdout",
     "output_type": "stream",
     "text": [
      "[A,Spade, 2,Spade, 3,Spade, 4,Spade, 5,Spade, 6,Spade, 7,Spade, 8,Spade, 9,Spade, 10,Spade, J,Spade, Q,Spade, K,Spade, A,Heart, 2,Heart, 3,Heart, 4,Heart, 5,Heart, 6,Heart, 7,Heart, 8,Heart, 9,Heart, 10,Heart, J,Heart, Q,Heart, K,Heart, A,Club, 2,Club, 3,Club, 4,Club, 5,Club, 6,Club, 7,Club, 8,Club, 9,Club, 10,Club, J,Club, Q,Club, K,Club, A,Diamond, 2,Diamond, 3,Diamond, 4,Diamond, 5,Diamond, 6,Diamond, 7,Diamond, 8,Diamond, 9,Diamond, 10,Diamond, J,Diamond, Q,Diamond, K,Diamond]\n"
     ]
    }
   ],
   "source": [
    "# Print out the cards that come right out of the box\n",
    "oneDeck.printCards()"
   ]
  },
  {
   "cell_type": "code",
   "execution_count": 4,
   "metadata": {
    "collapsed": false
   },
   "outputs": [
    {
     "name": "stdout",
     "output_type": "stream",
     "text": [
      "After Shuffling...\n",
      "[9,Heart, 9,Club, 3,Diamond, J,Heart, Q,Spade, 5,Heart, 10,Club, 4,Heart, 8,Spade, 7,Club, 9,Spade, 10,Diamond, 4,Diamond, 4,Club, 6,Diamond, K,Club, K,Spade, 7,Diamond, 8,Club, A,Diamond, 10,Heart, A,Club, Q,Club, 7,Spade, 3,Heart, 5,Spade, 9,Diamond, J,Club, K,Diamond, 2,Heart, Q,Heart, A,Spade, Q,Diamond, 6,Heart, 5,Diamond, K,Heart, 8,Diamond, A,Heart, 6,Spade, 5,Club, 4,Spade, J,Spade, 2,Spade, 6,Club, 3,Spade, 10,Spade, 3,Club, 2,Diamond, 7,Heart, 2,Club, J,Diamond, 8,Heart]\n"
     ]
    }
   ],
   "source": [
    "# Print out the cards after shuffling.\n",
    "print 'After Shuffling...'\n",
    "oneDeck.shuffleCards()\n",
    "oneDeck.printCards()"
   ]
  },
  {
   "cell_type": "code",
   "execution_count": 5,
   "metadata": {
    "collapsed": false
   },
   "outputs": [
    {
     "name": "stdout",
     "output_type": "stream",
     "text": [
      "Top 5 Cards\n",
      "[9,Heart, 9,Club, 3,Diamond, J,Heart, Q,Spade]\n",
      "Draw the first 5 cards\n",
      "[9,Heart, 9,Club, 3,Diamond, J,Heart, Q,Spade]\n",
      "There are 47 cards in the deck\n"
     ]
    }
   ],
   "source": [
    "# To prove the drawACard function works, print the top five cards of the deck.\n",
    "# Then, draw the top 5 cards.  The cards that are drawn should match\n",
    "# the top cards that are printed earlier. The number of cards left in the deck should be 52 - 5 = 47.\n",
    "print 'Top 5 Cards'\n",
    "print oneDeck[:5]\n",
    "print 'Draw the first 5 cards'\n",
    "cards_drawn = [ oneDeck.drawACard() for i in range(5)]\n",
    "print cards_drawn\n",
    "print 'There are %d cards in the deck' % len(oneDeck)\n",
    "  "
   ]
  },
  {
   "cell_type": "code",
   "execution_count": null,
   "metadata": {
    "collapsed": true
   },
   "outputs": [],
   "source": []
  }
 ],
 "metadata": {
  "kernelspec": {
   "display_name": "Python 2",
   "language": "python",
   "name": "python2"
  },
  "language_info": {
   "codemirror_mode": {
    "name": "ipython",
    "version": 2
   },
   "file_extension": ".py",
   "mimetype": "text/x-python",
   "name": "python",
   "nbconvert_exporter": "python",
   "pygments_lexer": "ipython2",
   "version": "2.7.11"
  }
 },
 "nbformat": 4,
 "nbformat_minor": 0
}
