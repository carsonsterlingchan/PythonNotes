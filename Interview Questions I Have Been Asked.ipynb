{
 "cells": [
  {
   "cell_type": "markdown",
   "metadata": {
    "collapsed": true
   },
   "source": [
    "# Input  = [1,2,3,4,5,6] 6\n",
    "Output = 1,5\n",
    "         2,4"
   ]
  },
  {
   "cell_type": "code",
   "execution_count": 1,
   "metadata": {
    "collapsed": true
   },
   "outputs": [],
   "source": [
    "def find_pair(lst, target):\n",
    "    \n",
    "    if len(lst) < 2:\n",
    "        raise Exception('There should be at least 2 integers in the list')\n",
    "        \n",
    "    output = set()\n",
    "    seen = set()\n",
    "    \n",
    "    for num in lst:\n",
    "        \n",
    "        diff = target - num\n",
    "        \n",
    "        if diff not in seen:\n",
    "            seen.add(num)\n",
    "        else:\n",
    "            output.add((min(diff,num),max(diff,num)))\n",
    "\n",
    "    if len(output) == 0:\n",
    "        print 'No pair is found'\n",
    "    else:\n",
    "        for pair in sorted(list(output), key=lambda x: x[0]):\n",
    "            print pair"
   ]
  },
  {
   "cell_type": "code",
   "execution_count": 2,
   "metadata": {
    "collapsed": false
   },
   "outputs": [
    {
     "name": "stdout",
     "output_type": "stream",
     "text": [
      "(1, 5)\n",
      "(2, 4)\n"
     ]
    }
   ],
   "source": [
    "find_pair([1,2,3,4,5,6], 6)"
   ]
  },
  {
   "cell_type": "raw",
   "metadata": {},
   "source": [
    "Problem\n",
    "You've been given a list of historical stock prices for a single day for Amazon stock. The index of the list represents the\n",
    "timestamp, so the element at index of 0 is the initial price of the stock, the element at index 1 is the next recorded price of\n",
    "the stock for that day, etc. Your task is to write a function that will return the maximum profit possible from the purchase\n",
    "and sale of a single share of Amazon stock on that day. Keep in mind to try to make this as efficient as possible.\n",
    "For example, if you were given the list of stock prices:\n",
    "prices = [12,11,15,3,10]\n",
    "Then your function would return the maximum possible profit, which would be 7 (buying at 3 and selling at 10)."
   ]
  },
  {
   "cell_type": "code",
   "execution_count": 1,
   "metadata": {
    "collapsed": true
   },
   "outputs": [],
   "source": [
    "def find_max_profit(price_list):\n",
    "    \n",
    "    if len(price_list) < 2:\n",
    "        raise ('List needs at least 2 prices')\n",
    "        \n",
    "    min_price = price_list[0]\n",
    "    max_profit = price_list[1] - min_price\n",
    "    prev_max_profit = max_profit\n",
    "    \n",
    "    for price in price_list[1:]:\n",
    "        \n",
    "        comparision_profit = price - min_price\n",
    "        \n",
    "        max_profit = max(comparision_profit, max_profit)\n",
    "        \n",
    "        if max_profit <> prev_max_profit:\n",
    "            max_price = price\n",
    "            prev_max_profit = max_profit\n",
    "            \n",
    "        min_price = min(min_price, price)\n",
    "        \n",
    "    print 'min = {}, max = {}, max_profit = {}'.format(min_price, max_price, max_profit)\n",
    "    \n",
    "    "
   ]
  },
  {
   "cell_type": "code",
   "execution_count": 2,
   "metadata": {
    "collapsed": false
   },
   "outputs": [
    {
     "name": "stdout",
     "output_type": "stream",
     "text": [
      "min = 3, max = 10, max_profit = 7\n"
     ]
    }
   ],
   "source": [
    "find_max_profit([12,11,15,3,10])"
   ]
  },
  {
   "cell_type": "raw",
   "metadata": {},
   "source": [
    "Problem:  Create a Deck of Cards"
   ]
  },
  {
   "cell_type": "code",
   "execution_count": 5,
   "metadata": {
    "collapsed": false
   },
   "outputs": [
    {
     "name": "stdout",
     "output_type": "stream",
     "text": [
      "There are 52 cards in the deck.\n",
      "Here are the cards:\n",
      "(A,Spade)\n",
      "(2,Spade)\n",
      "(3,Spade)\n",
      "(4,Spade)\n",
      "(5,Spade)\n",
      "(6,Spade)\n",
      "(7,Spade)\n",
      "(8,Spade)\n",
      "(9,Spade)\n",
      "(10,Spade)\n",
      "(J,Spade)\n",
      "(Q,Spade)\n",
      "(K,Spade)\n",
      "(A,Heart)\n",
      "(2,Heart)\n",
      "(3,Heart)\n",
      "(4,Heart)\n",
      "(5,Heart)\n",
      "(6,Heart)\n",
      "(7,Heart)\n",
      "(8,Heart)\n",
      "(9,Heart)\n",
      "(10,Heart)\n",
      "(J,Heart)\n",
      "(Q,Heart)\n",
      "(K,Heart)\n",
      "(A,Club)\n",
      "(2,Club)\n",
      "(3,Club)\n",
      "(4,Club)\n",
      "(5,Club)\n",
      "(6,Club)\n",
      "(7,Club)\n",
      "(8,Club)\n",
      "(9,Club)\n",
      "(10,Club)\n",
      "(J,Club)\n",
      "(Q,Club)\n",
      "(K,Club)\n",
      "(A,Diamond)\n",
      "(2,Diamond)\n",
      "(3,Diamond)\n",
      "(4,Diamond)\n",
      "(5,Diamond)\n",
      "(6,Diamond)\n",
      "(7,Diamond)\n",
      "(8,Diamond)\n",
      "(9,Diamond)\n",
      "(10,Diamond)\n",
      "(J,Diamond)\n",
      "(Q,Diamond)\n",
      "(K,Diamond)\n",
      "Shuffling the deck\n",
      "Here are the top 5 cards of the deck after shuffling.\n",
      "[(Q,Club), (7,Spade), (J,Diamond), (8,Diamond), (3,Diamond)]\n",
      "Drawing five cards from the deck to see if they match what we have found earlier\n",
      "They match\n",
      "After cards are drawn, there are 47 cards left in the deck.\n"
     ]
    }
   ],
   "source": [
    "from random import shuffle\n",
    "\n",
    "class Card(object):\n",
    "    \n",
    "    def __init__(self, suit, value):\n",
    "        \n",
    "        self.suit = suit\n",
    "        self.value = value\n",
    "        \n",
    "    def __repr__(self):\n",
    "        \n",
    "        letters = {1:'A', 11:'J', 12:'Q', 13:'K'}\n",
    "        letter = letters.get(self.value, str(self.value))\n",
    "        return '({0},{1})'.format(letter, self.suit)\n",
    "    \n",
    "class DeckOfCards(object):\n",
    "    \n",
    "    def __init__(self):\n",
    "        suits = ('Spade', 'Heart', 'Club', 'Diamond')\n",
    "        values = range(1,14)\n",
    "        \n",
    "        self.cards = [Card(suit,value) for suit in suits for value in values]\n",
    "        \n",
    "    def shuffleCards(self):\n",
    "        shuffle(self.cards)\n",
    "    \n",
    "    def drawACard(self):\n",
    "        return self.cards.pop(0)\n",
    "    \n",
    "    def __len__(self):\n",
    "        return len(self.cards)\n",
    "    \n",
    "    def __getitem__(self, k):\n",
    "        return self.cards[k]\n",
    "    \n",
    "if __name__ == '__main__':\n",
    "    \n",
    "    aDeck = DeckOfCards()\n",
    "    print 'There are %d cards in the deck.' % len(aDeck)\n",
    "    print 'Here are the cards:'\n",
    "    for card in aDeck:\n",
    "        print card\n",
    "    print 'Shuffling the deck'\n",
    "    aDeck.shuffleCards()\n",
    "    print 'Here are the top 5 cards of the deck after shuffling.'\n",
    "    top_five_cards = aDeck[:5]\n",
    "    print top_five_cards\n",
    "    print 'Drawing five cards from the deck to see if they match what we have found earlier'\n",
    "    draw_five_cards = [ aDeck.drawACard() for i in range(5) ]\n",
    "    if top_five_cards == draw_five_cards:\n",
    "        print 'They match'\n",
    "    else:\n",
    "        print 'They do not match'\n",
    "    print 'After cards are drawn, there are %d cards left in the deck.' % len(aDeck)"
   ]
  },
  {
   "cell_type": "code",
   "execution_count": 6,
   "metadata": {
    "collapsed": true
   },
   "outputs": [],
   "source": [
    "arr = [1] + [0] * 4"
   ]
  },
  {
   "cell_type": "code",
   "execution_count": 7,
   "metadata": {
    "collapsed": false
   },
   "outputs": [
    {
     "name": "stdout",
     "output_type": "stream",
     "text": [
      "[1, 0, 0, 0, 0]\n"
     ]
    }
   ],
   "source": [
    "print arr"
   ]
  },
  {
   "cell_type": "raw",
   "metadata": {},
   "source": [
    "input = [1,2,3,3,1,2,5,7,7,8]\n",
    "output = [1,2,3,3,1,2,7,7]\n",
    "\n",
    "Write a funtion to produce the output"
   ]
  },
  {
   "cell_type": "code",
   "execution_count": 8,
   "metadata": {
    "collapsed": false
   },
   "outputs": [
    {
     "data": {
      "text/plain": [
       "[1, 2, 3, 3, 1, 2, 7, 7]"
      ]
     },
     "execution_count": 8,
     "metadata": {},
     "output_type": "execute_result"
    }
   ],
   "source": [
    "input = [1,2,3,3,1,2,5,7,7,8]\n",
    "filter(lambda x: input.count(x) > 1, input) "
   ]
  },
  {
   "cell_type": "code",
   "execution_count": 9,
   "metadata": {
    "collapsed": true
   },
   "outputs": [],
   "source": [
    "def isPrime(num):\n",
    "    \n",
    "    if num >= 2:\n",
    "        for i in range(2,num):\n",
    "            if not num % i:\n",
    "                return False\n",
    "    else:\n",
    "        return False\n",
    "    \n",
    "    return True"
   ]
  },
  {
   "cell_type": "code",
   "execution_count": 10,
   "metadata": {
    "collapsed": false
   },
   "outputs": [
    {
     "data": {
      "text/plain": [
       "[2, 3, 5, 7, 11, 13, 17, 19]"
      ]
     },
     "execution_count": 10,
     "metadata": {},
     "output_type": "execute_result"
    }
   ],
   "source": [
    "filter(isPrime, range(2,20))"
   ]
  },
  {
   "cell_type": "markdown",
   "metadata": {
    "collapsed": true
   },
   "source": [
    "What is memorization?\n",
    "\n",
    "Memoization is the use of caches to retrieve previously computed values to reduce the time complexity of algorithms.\n",
    "\n",
    "See below example"
   ]
  },
  {
   "cell_type": "code",
   "execution_count": 9,
   "metadata": {
    "collapsed": true
   },
   "outputs": [],
   "source": [
    "from functools import wraps\n",
    "\n",
    "def memorize(func):\n",
    "    cache = {}\n",
    "    @wraps(func)\n",
    "    def wrap(*args):\n",
    "        if args not in cache:\n",
    "            cache[args] = func(*args)\n",
    "        return cache[args]\n",
    "    return wrap\n",
    "\n",
    "@memorize\n",
    "def fib(n):\n",
    "    if n<=2: return 1\n",
    "    return fib(n-1) + fib(n-2)"
   ]
  },
  {
   "cell_type": "code",
   "execution_count": 10,
   "metadata": {
    "collapsed": false
   },
   "outputs": [
    {
     "data": {
      "text/plain": [
       "3"
      ]
     },
     "execution_count": 10,
     "metadata": {},
     "output_type": "execute_result"
    }
   ],
   "source": [
    "fib(4)"
   ]
  },
  {
   "cell_type": "markdown",
   "metadata": {
    "collapsed": true
   },
   "source": [
    "# Fib function without recursion\n",
    "1 1 2 3 5 8 13 21 34 55 "
   ]
  },
  {
   "cell_type": "code",
   "execution_count": 15,
   "metadata": {
    "collapsed": true
   },
   "outputs": [],
   "source": [
    "def fib2(n):\n",
    "    \n",
    "    if n == 0:\n",
    "        return 0\n",
    "    \n",
    "    a,b = 1,1\n",
    "    for i in range(n-1):\n",
    "        a,b = b,a+b\n",
    "    return a"
   ]
  },
  {
   "cell_type": "code",
   "execution_count": 17,
   "metadata": {
    "collapsed": false
   },
   "outputs": [
    {
     "data": {
      "text/plain": [
       "0"
      ]
     },
     "execution_count": 17,
     "metadata": {},
     "output_type": "execute_result"
    }
   ],
   "source": [
    "fib2(0)"
   ]
  },
  {
   "cell_type": "markdown",
   "metadata": {
    "collapsed": true
   },
   "source": [
    "# HOW ARE YOU -> YOU ARE HOW"
   ]
  },
  {
   "cell_type": "code",
   "execution_count": 4,
   "metadata": {
    "collapsed": false
   },
   "outputs": [
    {
     "name": "stdout",
     "output_type": "stream",
     "text": [
      "  Y O U   A R E   H O W  \n"
     ]
    }
   ],
   "source": [
    "s = \"HOW ARE YOU\"\n",
    "first = 0\n",
    "last = len(s) - 1\n",
    "s_list = list(s)\n",
    "#while first < last:\n",
    "#    temp = s_list[first]\n",
    "#    s_list[first] = s_list[last]\n",
    "#    s_list[last] = temp\n",
    "#    first +=1\n",
    "#    last -= 1\n",
    "\n",
    "while first < last:\n",
    "    s_list[first], s_list[last] = s_list[last], s_list[first]\n",
    "    first +=1\n",
    "    last -= 1\n",
    "    \n",
    "blank_ptr = 0\n",
    "word_ptr = 0\n",
    "\n",
    "for ptr in range(len(s_list)):\n",
    "    \n",
    "    if s_list[ptr] == ' ':\n",
    "        blank_ptr = ptr\n",
    "        for print_ptr in range(blank_ptr, word_ptr-1, -1):\n",
    "            print s_list[print_ptr],\n",
    "        word_ptr = ptr + 1\n",
    "\n",
    "print ' ',\n",
    "\n",
    "for print_ptr in range(len(s_list)-1, blank_ptr-1, -1):\n",
    "    print s_list[print_ptr],"
   ]
  },
  {
   "cell_type": "markdown",
   "metadata": {
    "collapsed": true
   },
   "source": [
    "# Remove duplicates from collection"
   ]
  },
  {
   "cell_type": "code",
   "execution_count": 16,
   "metadata": {
    "collapsed": false
   },
   "outputs": [],
   "source": [
    "def remove_dup_list_or_tuple(collection):\n",
    "    \n",
    "    seen = set()\n",
    "    for ele in collection:\n",
    "        if ele not in seen:\n",
    "            seen.add(ele)\n",
    "            \n",
    "    if isinstance(collection, list):\n",
    "        print list(seen)\n",
    "    elif isinstance(collection, tuple):\n",
    "        print tuple(seen)\n",
    "    \n",
    "def remove_dup_dict(dict_obj):\n",
    "    \n",
    "    new_dict = {}\n",
    "    for key, value in dict_obj.iteritems():\n",
    "            if value not in new_dict.values():\n",
    "                new_dict[key] = value\n",
    "                \n",
    "    print new_dict\n",
    "    \n",
    "def remove_dup(collection):\n",
    "    \n",
    "    if len(collection) == 0 or isinstance(collection, set):\n",
    "        return collection\n",
    "    \n",
    "    if isinstance(collection, (list, tuple)):\n",
    "        remove_dup_list_or_tuple(collection)\n",
    "    else:\n",
    "        remove_dup_dict(collection)"
   ]
  },
  {
   "cell_type": "code",
   "execution_count": 17,
   "metadata": {
    "collapsed": false
   },
   "outputs": [],
   "source": [
    "a = [1,4,3,3,1,7,9]"
   ]
  },
  {
   "cell_type": "code",
   "execution_count": 18,
   "metadata": {
    "collapsed": false
   },
   "outputs": [
    {
     "name": "stdout",
     "output_type": "stream",
     "text": [
      "[1, 3, 4, 9, 7]\n"
     ]
    }
   ],
   "source": [
    "remove_dup(a)"
   ]
  },
  {
   "cell_type": "code",
   "execution_count": 19,
   "metadata": {
    "collapsed": false
   },
   "outputs": [],
   "source": [
    "b = {1:'Hello', 2:'Hello', 3:'World'}"
   ]
  },
  {
   "cell_type": "code",
   "execution_count": 20,
   "metadata": {
    "collapsed": false
   },
   "outputs": [
    {
     "name": "stdout",
     "output_type": "stream",
     "text": [
      "{1: 'Hello', 3: 'World'}\n"
     ]
    }
   ],
   "source": [
    "remove_dup(b)"
   ]
  },
  {
   "cell_type": "code",
   "execution_count": 21,
   "metadata": {
    "collapsed": true
   },
   "outputs": [],
   "source": [
    "c = (1,4,3,3,1,7,9)"
   ]
  },
  {
   "cell_type": "code",
   "execution_count": 22,
   "metadata": {
    "collapsed": false
   },
   "outputs": [
    {
     "name": "stdout",
     "output_type": "stream",
     "text": [
      "(1, 3, 4, 9, 7)\n"
     ]
    }
   ],
   "source": [
    "remove_dup(c)"
   ]
  },
  {
   "cell_type": "markdown",
   "metadata": {},
   "source": [
    "# Find the Missing Element\n",
    "\n",
    "## Problem\n",
    "\n",
    "Consider an array of non-negative integers. A second array is formed by shuffling the elements of the first array and deleting a random element. Given these two arrays, find which element is missing in the second array. \n",
    "\n",
    "Here is an example input, the first array is shuffled and the number 5 is removed to construct the second array.\n",
    "\n",
    "Input:\n",
    "    \n",
    "    finder([1,2,3,4,5,6,7],[3,7,2,1,4,6])\n",
    "\n",
    "Output:\n",
    "\n",
    "    5 is the missing number"
   ]
  },
  {
   "cell_type": "code",
   "execution_count": 23,
   "metadata": {
    "collapsed": true
   },
   "outputs": [],
   "source": [
    "import collections\n",
    "\n",
    "def finder(arr1,arr2):\n",
    "    \n",
    "    d = collections.defaultdict(int)\n",
    "    \n",
    "    for num in arr2:\n",
    "        d[num] +=1 \n",
    "        \n",
    "    for num in arr1:\n",
    "        \n",
    "        if d[num] == 0:\n",
    "            return num\n",
    "        else:\n",
    "            d[num] -=1\n",
    "            "
   ]
  },
  {
   "cell_type": "code",
   "execution_count": 24,
   "metadata": {
    "collapsed": false
   },
   "outputs": [
    {
     "name": "stdout",
     "output_type": "stream",
     "text": [
      "ALL TEST CASES PASSED\n"
     ]
    }
   ],
   "source": [
    "\"\"\"\n",
    "RUN THIS CELL TO TEST YOUR SOLUTION\n",
    "\"\"\"\n",
    "from nose.tools import assert_equal\n",
    "\n",
    "class TestFinder(object):\n",
    "    \n",
    "    def test(self,sol):\n",
    "        assert_equal(sol([5,5,7,7],[5,7,7]),5)\n",
    "        assert_equal(sol([1,2,3,4,5,6,7],[3,7,2,1,4,6]),5)\n",
    "        assert_equal(sol([9,8,7,6,5,4,3,2,1],[9,8,7,5,4,3,2,1]),6)\n",
    "        print 'ALL TEST CASES PASSED'\n",
    "\n",
    "# Run test\n",
    "t = TestFinder()\n",
    "t.test(finder)"
   ]
  },
  {
   "cell_type": "markdown",
   "metadata": {},
   "source": [
    "# HEX TO DECIMAL CONVERTER"
   ]
  },
  {
   "cell_type": "code",
   "execution_count": 25,
   "metadata": {
    "collapsed": true
   },
   "outputs": [],
   "source": [
    "def hexToDecialHelper(hexCode):\n",
    "    \n",
    "    hexCode = hexCode.upper()\n",
    "    \n",
    "    if hexCode.isalpha() and hexCode > 'F':\n",
    "        raise Exception('{} is not hexidecimal. Cannot convert into decimal'.format(hexCode))\n",
    "        \n",
    "    hexDict = {'A': 10, 'B' : 11, 'C': 12, 'D': 13, 'E': 14, 'F': 15}\n",
    "    \n",
    "    return int(hexDict.get(hexCode, hexCode))"
   ]
  },
  {
   "cell_type": "code",
   "execution_count": 26,
   "metadata": {
    "collapsed": false
   },
   "outputs": [],
   "source": [
    "def hextToDecial(hex_string):\n",
    "    \n",
    "    if not isinstance(hex_string, str):\n",
    "        raise Exception('Input is not a string')\n",
    "        \n",
    "    base = 16\n",
    "    power = len(hex_string) - 1\n",
    "    decimal_sum = 0\n",
    "    \n",
    "    for i in hex_string:\n",
    "        decimal_sum += hexToDecialHelper(i) * (base ** power)\n",
    "        power -= 1\n",
    "        \n",
    "    return decimal_sum"
   ]
  },
  {
   "cell_type": "code",
   "execution_count": 27,
   "metadata": {
    "collapsed": false
   },
   "outputs": [
    {
     "data": {
      "text/plain": [
       "2016"
      ]
     },
     "execution_count": 27,
     "metadata": {},
     "output_type": "execute_result"
    }
   ],
   "source": [
    "hextToDecial('7E0')"
   ]
  },
  {
   "cell_type": "markdown",
   "metadata": {
    "collapsed": true
   },
   "source": [
    "## Smallest subarray with sum greater than a given value\n",
    "\n",
    "An Array [5, 7, 13, 33, 2]\n",
    "\n",
    "all list elements > 0\n",
    "\n",
    "target = 52\n",
    "\n",
    "find length of smallest substring where sum > target\n",
    "\n",
    "answer = 3     (7, 13, 33)\n"
   ]
  },
  {
   "cell_type": "code",
   "execution_count": 18,
   "metadata": {
    "collapsed": true
   },
   "outputs": [],
   "source": [
    "def findSmallestSubArray(lst, target):\n",
    "    \n",
    "    # Assume the length of the smallest substring is the\n",
    "    # length of the list + 1\n",
    "    min_len = len(lst) + 1\n",
    "    \n",
    "    # Pick every element in the list as starting point\n",
    "    for start in range(len(lst)):\n",
    "        \n",
    "        # Initialize the sum starting with the current element.\n",
    "        curr_sum = lst[start]\n",
    "        \n",
    "        # Return 1 if the first element itself is greater\n",
    "        # than the target\n",
    "        if curr_sum >= target:\n",
    "            return 1\n",
    "        \n",
    "        # Try different end points for current start\n",
    "        for end in range(start+1,len(lst)):\n",
    "            \n",
    "            curr_sum += lst[end]\n",
    "            \n",
    "            if curr_sum <= target:\n",
    "                continue\n",
    "            \n",
    "            min_len = min(min_len, (end-start+1))\n",
    "            \n",
    "            break\n",
    "                \n",
    "    return min_len"
   ]
  },
  {
   "cell_type": "code",
   "execution_count": 19,
   "metadata": {
    "collapsed": false
   },
   "outputs": [
    {
     "data": {
      "text/plain": [
       "3"
      ]
     },
     "execution_count": 19,
     "metadata": {},
     "output_type": "execute_result"
    }
   ],
   "source": [
    "findSmallestSubArray([5, 7, 13, 33, 2], 52)"
   ]
  },
  {
   "cell_type": "markdown",
   "metadata": {},
   "source": [
    "## Find the middle of a given linked list\n",
    "Given a singly linked list, find middle of the linked list. For example, if given linked list is 1->2->3->4->5 then output should be 3.\n",
    "\n",
    "If there are even nodes, then there would be two middle nodes, we need to print second middle element. For example, if given linked list is 1->2->3->4->5->6 then output should be 4."
   ]
  },
  {
   "cell_type": "code",
   "execution_count": 28,
   "metadata": {
    "collapsed": true
   },
   "outputs": [],
   "source": [
    "class Node(object):\n",
    "    \n",
    "    def __init__(self, value):\n",
    "        self.value = value\n",
    "        self.nextNode = None"
   ]
  },
  {
   "cell_type": "code",
   "execution_count": 39,
   "metadata": {
    "collapsed": true
   },
   "outputs": [],
   "source": [
    "def find_middle(head):\n",
    "    \n",
    "    if head is None:\n",
    "        return None\n",
    "    \n",
    "    slow_pointer = head\n",
    "    fast_pointer = head\n",
    "    \n",
    "    while fast_pointer is not None and fast_pointer.nextNode is not None:\n",
    "        slow_pointer = slow_pointer.nextNode\n",
    "        fast_pointer = fast_pointer.nextNode.nextNode\n",
    "        \n",
    "    \n",
    "    return slow_pointer.value"
   ]
  },
  {
   "cell_type": "code",
   "execution_count": 40,
   "metadata": {
    "collapsed": true
   },
   "outputs": [],
   "source": [
    "a = Node(1)\n",
    "b = Node(2)\n",
    "c = Node(3)\n",
    "d = Node(4)\n",
    "e = Node(5)\n",
    "f = Node(6)"
   ]
  },
  {
   "cell_type": "code",
   "execution_count": 41,
   "metadata": {
    "collapsed": false
   },
   "outputs": [],
   "source": [
    "a.nextNode = b\n",
    "b.nextNode = c\n",
    "c.nextNode = d\n",
    "d.nextNode = e\n",
    "e.nextNode = f"
   ]
  },
  {
   "cell_type": "code",
   "execution_count": 42,
   "metadata": {
    "collapsed": false
   },
   "outputs": [
    {
     "data": {
      "text/plain": [
       "4"
      ]
     },
     "execution_count": 42,
     "metadata": {},
     "output_type": "execute_result"
    }
   ],
   "source": [
    "find_middle(a)"
   ]
  },
  {
   "cell_type": "code",
   "execution_count": null,
   "metadata": {
    "collapsed": true
   },
   "outputs": [],
   "source": []
  }
 ],
 "metadata": {
  "kernelspec": {
   "display_name": "Python 2",
   "language": "python",
   "name": "python2"
  },
  "language_info": {
   "codemirror_mode": {
    "name": "ipython",
    "version": 2
   },
   "file_extension": ".py",
   "mimetype": "text/x-python",
   "name": "python",
   "nbconvert_exporter": "python",
   "pygments_lexer": "ipython2",
   "version": "2.7.11"
  }
 },
 "nbformat": 4,
 "nbformat_minor": 0
}
